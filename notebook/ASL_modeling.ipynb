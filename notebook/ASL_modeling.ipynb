{
 "cells": [
  {
   "cell_type": "code",
   "execution_count": 3,
   "metadata": {},
   "outputs": [
    {
     "name": "stdout",
     "output_type": "stream",
     "text": [
      "+------+-------+------+---------+\n",
      "|userId|movieId|rating|timestamp|\n",
      "+------+-------+------+---------+\n",
      "|     1|      1|   4.0|964982703|\n",
      "|     1|      3|   4.0|964981247|\n",
      "|     1|      6|   4.0|964982224|\n",
      "|     1|     47|   5.0|964983815|\n",
      "|     1|     50|   5.0|964982931|\n",
      "+------+-------+------+---------+\n",
      "only showing top 5 rows\n",
      "\n",
      "+-------+--------------------+--------------------+\n",
      "|movieId|               title|              genres|\n",
      "+-------+--------------------+--------------------+\n",
      "|      1|    Toy Story (1995)|Adventure|Animati...|\n",
      "|      2|      Jumanji (1995)|Adventure|Childre...|\n",
      "|      3|Grumpier Old Men ...|      Comedy|Romance|\n",
      "|      4|Waiting to Exhale...|Comedy|Drama|Romance|\n",
      "|      5|Father of the Bri...|              Comedy|\n",
      "+-------+--------------------+--------------------+\n",
      "only showing top 5 rows\n",
      "\n"
     ]
    }
   ],
   "source": [
    "#Let's first have a look at the data downloaded from Kaggle\n",
    "from pyspark.sql import SparkSession\n",
    "spark = SparkSession.builder.appName('movie_recommender').getOrCreate()\n",
    "\n",
    "ratings = spark.read.csv('../data_set/ratings.csv',inferSchema=True,header=True)\n",
    "movies = spark.read.csv('../data_set/movies.csv',inferSchema=True,header=True)\n",
    "ratings.show(5)\n",
    "movies.show(5)\n"
   ]
  },
  {
   "cell_type": "code",
   "execution_count": 6,
   "metadata": {},
   "outputs": [
    {
     "name": "stdout",
     "output_type": "stream",
     "text": [
      "root\n",
      " |-- userId: integer (nullable = true)\n",
      " |-- rating: double (nullable = true)\n",
      " |-- timestamp: integer (nullable = true)\n",
      " |-- movieId: integer (nullable = true)\n",
      " |-- title: string (nullable = true)\n",
      " |-- genres: string (nullable = true)\n",
      "\n",
      "+------+------+---------+-------+--------------------+--------------------+\n",
      "|userId|rating|timestamp|movieId|               title|              genres|\n",
      "+------+------+---------+-------+--------------------+--------------------+\n",
      "|     1|   4.0|964982703|      1|    Toy Story (1995)|Adventure|Animati...|\n",
      "|     1|   4.0|964981247|      3|Grumpier Old Men ...|      Comedy|Romance|\n",
      "|     1|   4.0|964982224|      6|         Heat (1995)|Action|Crime|Thri...|\n",
      "|     1|   5.0|964983815|     47|Seven (a.k.a. Se7...|    Mystery|Thriller|\n",
      "|     1|   5.0|964982931|     50|Usual Suspects, T...|Crime|Mystery|Thr...|\n",
      "|     1|   3.0|964982400|     70|From Dusk Till Da...|Action|Comedy|Hor...|\n",
      "|     1|   5.0|964980868|    101|Bottle Rocket (1996)|Adventure|Comedy|...|\n",
      "|     1|   4.0|964982176|    110|   Braveheart (1995)|    Action|Drama|War|\n",
      "|     1|   5.0|964984041|    151|      Rob Roy (1995)|Action|Drama|Roma...|\n",
      "|     1|   5.0|964984100|    157|Canadian Bacon (1...|          Comedy|War|\n",
      "+------+------+---------+-------+--------------------+--------------------+\n",
      "only showing top 10 rows\n",
      "\n"
     ]
    }
   ],
   "source": [
    "#join the two dataframes on movieId, and remove the duplicate movieId column\n",
    "data_sdf = ratings.join(movies,movies[\"movieId\"]==ratings[\"movieId\"]).drop(ratings[\"movieId\"])\n",
    "#print out the data schema and the first 10 rows of the data (to make sure that userId and movieId are integers, and rating is a float)\n",
    "data_sdf.printSchema()\n",
    "data_sdf.show(10)"
   ]
  },
  {
   "cell_type": "code",
   "execution_count": null,
   "metadata": {},
   "outputs": [],
   "source": []
  }
 ],
 "metadata": {
  "kernelspec": {
   "display_name": ".env",
   "language": "python",
   "name": "python3"
  },
  "language_info": {
   "codemirror_mode": {
    "name": "ipython",
    "version": 3
   },
   "file_extension": ".py",
   "mimetype": "text/x-python",
   "name": "python",
   "nbconvert_exporter": "python",
   "pygments_lexer": "ipython3",
   "version": "3.10.12"
  }
 },
 "nbformat": 4,
 "nbformat_minor": 2
}
